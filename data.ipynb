{
 "cells": [
  {
   "cell_type": "code",
   "execution_count": 1,
   "metadata": {},
   "outputs": [],
   "source": [
    "import time\n",
    "import pandas as pd"
   ]
  },
  {
   "cell_type": "code",
   "execution_count": 2,
   "metadata": {},
   "outputs": [],
   "source": [
    "data_dir='../processed_data/'\n",
    "saved_data_dir='../saved_data/'"
   ]
  },
  {
   "cell_type": "markdown",
   "metadata": {},
   "source": [
    "时间戳"
   ]
  },
  {
   "cell_type": "code",
   "execution_count": 3,
   "metadata": {},
   "outputs": [],
   "source": [
    "orderHistory_train = pd.read_csv(data_dir + 'train/orderHistory_train.csv')\n",
    "orderHistory_test = pd.read_csv(data_dir + 'test/orderHistory_test.csv')\n",
    "action_train = pd.read_csv(data_dir + 'train/action_train.csv')\n",
    "action_test = pd.read_csv(data_dir + 'test/action_test.csv')"
   ]
  },
  {
   "cell_type": "code",
   "execution_count": 4,
   "metadata": {},
   "outputs": [],
   "source": [
    "def timestamp_to_time(timestamps):\n",
    "    times = []\n",
    "    for timestamp in timestamps:\n",
    "        times.append(time.strftime(\"%Y-%m-%d %H:%M:%S\", time.localtime(timestamp)))\n",
    "    return times"
   ]
  },
  {
   "cell_type": "code",
   "execution_count": 5,
   "metadata": {},
   "outputs": [],
   "source": [
    "orderHistory_train['order_time'] = timestamp_to_time(orderHistory_train['orderTime'])\n",
    "orderHistory_test['order_time'] = timestamp_to_time(orderHistory_test['orderTime'])\n",
    "action_train['action_time'] = timestamp_to_time(action_train['actionTime'])\n",
    "action_test['action_time'] = timestamp_to_time(action_test['actionTime'])"
   ]
  },
  {
   "cell_type": "code",
   "execution_count": 6,
   "metadata": {},
   "outputs": [],
   "source": [
    "orderHistory_train.to_csv(saved_data_dir + 'train/orderHistory_train.csv', index=False)\n",
    "orderHistory_test.to_csv(saved_data_dir + 'test/orderHistory_test.csv', index=False)\n",
    "action_train.to_csv(saved_data_dir + 'train/action_train.csv', index=False)\n",
    "action_test.to_csv(saved_data_dir + 'test/action_test.csv', index=False)"
   ]
  },
  {
   "cell_type": "markdown",
   "metadata": {},
   "source": [
    "特征编码 gender、province、age、city、country、continent"
   ]
  },
  {
   "cell_type": "code",
   "execution_count": 7,
   "metadata": {},
   "outputs": [],
   "source": [
    "orderHistory_train = pd.read_csv(data_dir + 'train/orderHistory_train.csv')\n",
    "orderHistory_test = pd.read_csv(data_dir + 'test/orderHistory_test.csv')\n",
    "userProfile_train = pd.read_csv(data_dir + 'train/userProfile_train.csv')\n",
    "userProfile_test = pd.read_csv(data_dir + 'test/userProfile_test.csv')"
   ]
  },
  {
   "cell_type": "code",
   "execution_count": 16,
   "metadata": {},
   "outputs": [
    {
     "name": "stdout",
     "output_type": "stream",
     "text": [
      "{'男': 0, '女': 1}\n"
     ]
    }
   ],
   "source": [
    "# 性别映射 {'男': 0, '女': 1}\n",
    "gender = set(userProfile_train['gender'].dropna())\n",
    "gender_map = {x: i for i, x in enumerate(gender)}\n",
    "print(gender_map)\n",
    "userProfile_train['gender_map'] = userProfile_train['gender'].map(gender_map)\n",
    "userProfile_test['gender_map'] = userProfile_test['gender'].map(gender_map)\n"
   ]
  },
  {
   "cell_type": "code",
   "execution_count": 17,
   "metadata": {},
   "outputs": [
    {
     "name": "stdout",
     "output_type": "stream",
     "text": [
      "{'广西': 0, '广东': 1, '山东': 2, '天津': 3, '安徽': 4, '贵州': 5, '辽宁': 6, '福建': 7, '山西': 8, '江苏': 9, '云南': 10, '甘肃': 11, '河南': 12, '湖南': 13, '内蒙古': 14, '黑龙江': 15, '吉林': 16, '宁夏': 17, '江西': 18, '西藏': 19, '新疆': 20, '浙江': 21, '四川': 22, '海南': 23, '湖北': 24, '上海': 25, '陕西': 26, '河北': 27, '北京': 28, '重庆': 29, '青海': 30}\n"
     ]
    }
   ],
   "source": [
    "# 省份\n",
    "province = userProfile_train['province'].append(userProfile_test['province'], ignore_index=True)\n",
    "province = set(province.dropna())\n",
    "province_map = {x: i for i, x in enumerate(province)}\n",
    "print(province_map)\n",
    "userProfile_train['province_map'] = userProfile_train['province'].map(province_map)\n",
    "userProfile_test['province_map'] = userProfile_test['province'].map(province_map)"
   ]
  },
  {
   "cell_type": "code",
   "execution_count": 20,
   "metadata": {},
   "outputs": [
    {
     "name": "stdout",
     "output_type": "stream",
     "text": [
      "{'70后': 0, '60后': 1, '90后': 2, '80后': 3, '00后': 4}\n"
     ]
    }
   ],
   "source": [
    "# age\n",
    "age = userProfile_train['age']\n",
    "age = set(age.dropna())\n",
    "age_map = {x: i for i, x in enumerate(age)}\n",
    "print(age_map)\n"
   ]
  },
  {
   "cell_type": "code",
   "execution_count": 21,
   "metadata": {},
   "outputs": [],
   "source": [
    "age_map = {'60后': 0, '70后': 1, '80后': 2, '90后': 3, '00后': 4}\n",
    "userProfile_train['age_map'] = userProfile_train['age'].map(age_map)\n",
    "userProfile_test['age_map'] = userProfile_test['age'].map(age_map)"
   ]
  },
  {
   "cell_type": "code",
   "execution_count": 23,
   "metadata": {},
   "outputs": [
    {
     "name": "stdout",
     "output_type": "stream",
     "text": [
      "{'广西': 0, '广东': 1, '山东': 2, '天津': 3, '安徽': 4, '贵州': 5, '辽宁': 6, '福建': 7, '山西': 8, '江苏': 9, '云南': 10, '甘肃': 11, '河南': 12, '湖南': 13, '内蒙古': 14, '黑龙江': 15, '吉林': 16, '宁夏': 17, '江西': 18, '西藏': 19, '新疆': 20, '浙江': 21, '四川': 22, '海南': 23, '湖北': 24, '上海': 25, '陕西': 26, '河北': 27, '北京': 28, '重庆': 29, '青海': 30}\n"
     ]
    }
   ],
   "source": [
    "# 城市\n",
    "city = orderHistory_train['city'].append(orderHistory_test['city'], ignore_index=True)\n",
    "city = set(city.dropna())\n",
    "city_map = {x: i for i, x in enumerate(city)}\n",
    "print(province_map)\n",
    "userProfile_train['city_map'] = orderHistory_train['city'].map(city_map)\n",
    "userProfile_test['city_map'] = orderHistory_test['city'].map(city_map)"
   ]
  },
  {
   "cell_type": "code",
   "execution_count": 24,
   "metadata": {},
   "outputs": [
    {
     "name": "stdout",
     "output_type": "stream",
     "text": [
      "{'捷克': 0, '波兰': 1, '瑞典': 2, '芬兰': 3, '美国': 4, '印度尼西亚': 5, '俄罗斯': 6, '挪威': 7, '匈牙利': 8, '加拿大': 9, '摩洛哥': 10, '巴西': 11, '卡塔尔': 12, '澳大利亚': 13, '柬埔寨': 14, '日本': 15, '越南': 16, '缅甸': 17, '埃及': 18, '斐济': 19, '墨西哥': 20, '荷兰': 21, '新加坡': 22, '中国': 23, '西班牙': 24, '希腊': 25, '新西兰': 26, '马来西亚': 27, '爱尔兰': 28, '阿联酋': 29, '丹麦': 30, '韩国': 31, '泰国': 32, '中国香港': 33, '中国台湾': 34, '葡萄牙': 35, '毛里求斯': 36, '菲律宾': 37, '奥地利': 38, '英国': 39, '意大利': 40, '老挝': 41, '瑞士': 42, '尼泊尔': 43, '德国': 44, '中国澳门': 45, '土耳其': 46, '南非': 47, '冰岛': 48, '法国': 49, '比利时': 50}\n"
     ]
    }
   ],
   "source": [
    "# 国家\n",
    "country = orderHistory_train['country'].append(orderHistory_test['country'], ignore_index=True)\n",
    "country = set(country.dropna())\n",
    "country_map = {x: i for i, x in enumerate(country)}\n",
    "print(country_map)\n",
    "userProfile_train['country_map'] = orderHistory_train['country'].map(country_map)\n",
    "userProfile_test['country_map'] = orderHistory_test['country'].map(country_map)"
   ]
  },
  {
   "cell_type": "code",
   "execution_count": 25,
   "metadata": {},
   "outputs": [
    {
     "name": "stdout",
     "output_type": "stream",
     "text": [
      "{'欧洲': 0, '非洲': 1, '大洋洲': 2, '北美洲': 3, '南美洲': 4, '亚洲': 5}\n"
     ]
    }
   ],
   "source": [
    "# 洲\n",
    "continent = orderHistory_train['continent'].append(orderHistory_test['continent'], ignore_index=True)\n",
    "continent = set(continent.dropna())\n",
    "continent_map = {x: i for i, x in enumerate(continent)}\n",
    "print(continent_map)\n",
    "userProfile_train['continent_map'] = orderHistory_train['continent'].map(continent_map)\n",
    "userProfile_test['continent_map'] = orderHistory_test['continent'].map(continent_map)"
   ]
  },
  {
   "cell_type": "code",
   "execution_count": 26,
   "metadata": {},
   "outputs": [],
   "source": [
    "userProfile_train.to_csv(saved_data_dir + 'train/userProfile_train.csv', index=False)\n",
    "userProfile_test.to_csv(saved_data_dir + 'test/userProfile_test.csv', index=False)\n",
    "orderHistory_train.to_csv(saved_data_dir + 'train/orderHistory_train.csv', index=False)\n",
    "orderHistory_test.to_csv(saved_data_dir + 'test/orderHistory_test.csv', index=False)"
   ]
  },
  {
   "cell_type": "code",
   "execution_count": null,
   "metadata": {},
   "outputs": [],
   "source": []
  }
 ],
 "metadata": {
  "kernelspec": {
   "display_name": "Python 3",
   "language": "python",
   "name": "python3"
  },
  "language_info": {
   "codemirror_mode": {
    "name": "ipython",
    "version": 3
   },
   "file_extension": ".py",
   "mimetype": "text/x-python",
   "name": "python",
   "nbconvert_exporter": "python",
   "pygments_lexer": "ipython3",
   "version": "3.6.8"
  }
 },
 "nbformat": 4,
 "nbformat_minor": 2
}
